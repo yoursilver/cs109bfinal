{
 "cells": [
  {
   "cell_type": "markdown",
   "metadata": {},
   "source": [
    "# EDA for COVID-19 Dataset"
   ]
  },
  {
   "cell_type": "code",
   "execution_count": 43,
   "metadata": {},
   "outputs": [],
   "source": [
    "import os\n",
    "import cv2\n",
    "import folium\n",
    "import imgkit\n",
    "import branca\n",
    "import akshare\n",
    "import pandas as pd\n",
    "import sklearn\n",
    "import numpy as np\n",
    "import matplotlib.pyplot as plt\n",
    "from selenium import webdriver\n",
    "from webdriver_manager.chrome import ChromeDriverManager"
   ]
  },
  {
   "cell_type": "code",
   "execution_count": 2,
   "metadata": {},
   "outputs": [],
   "source": [
    "plt.style.use(\"seaborn-darkgrid\")\n",
    "plt.rcParams[\"font.sans-serif\"]=[\"SimHei\"]\n",
    "plt.rcParams[\"axes.unicode_minus\"] = False"
   ]
  },
  {
   "cell_type": "code",
   "execution_count": 3,
   "metadata": {},
   "outputs": [
    {
     "name": "stdout",
     "output_type": "stream",
     "text": [
      "Reports date from 2019-12-01 to 2020-04-09.\n",
      "There 209 countries report COVID-19.\n"
     ]
    }
   ],
   "source": [
    "epidemic_df = akshare.covid_19_history()\n",
    "epidemic_df.to_csv(\"data/epidemic_data.csv\", index=False)\n",
    "print(\"Reports date from {} to {}.\".format(epidemic_df[\"date\"].iloc[0], epidemic_df[\"date\"].iloc[-1]))\n",
    "print(\"There {} countries report COVID-19.\".format(len(epidemic_df[\"country\"].unique())))"
   ]
  },
  {
   "cell_type": "markdown",
   "metadata": {},
   "source": [
    "### Data Preprocessing"
   ]
  },
  {
   "cell_type": "code",
   "execution_count": 4,
   "metadata": {
    "scrolled": false
   },
   "outputs": [],
   "source": [
    "name_to_code = pd.read_excel(\"data/name_to_code.xls\", header = 1)\n",
    "name_to_code = name_to_code[name_to_code[\"Chinese\"].str.isupper()==False]\n",
    "n2c_dict = name_to_code.set_index(\"Chinese\")[\"Alpha3\"].to_dict()"
   ]
  },
  {
   "cell_type": "code",
   "execution_count": 5,
   "metadata": {},
   "outputs": [],
   "source": [
    "epidemic_df[\"country\"] = epidemic_df[\"country\"].map(lambda x: n2c_dict[x] if x in n2c_dict else np.nan)\n",
    "epidemic_df.drop([\"countryCode\", \"province\", \"provinceCode\", \"city\", \"cityCode\"], axis = 1, inplace = True)\n",
    "epidemic_df.dropna(inplace = True)\n",
    "epidemic_df.drop_duplicates(inplace = True)"
   ]
  },
  {
   "cell_type": "code",
   "execution_count": 39,
   "metadata": {},
   "outputs": [],
   "source": [
    "countries = list(name_to_code[\"Alpha3\"].unique())\n",
    "n_country = len(countries)\n",
    "date = list(epidemic_df[\"date\"].unique())\n",
    "zeros = pd.DataFrame({\"country\": [countries[i] for i in range(n_country)], \n",
    "                      \"confirmed\": [0 for i in range(n_country)],\n",
    "                      \"suspected\":[0 for i in range(n_country)], \n",
    "                      \"cured\":[0 for i in range(n_country)], \n",
    "                      \"dead\":[0 for i in range(n_country)]})\n",
    "def fill_data(df):\n",
    "    return pd.concat([df.drop(\"date\", axis=1), zeros]).drop_duplicates(\"country\")\n",
    "groups = epidemic_df.groupby(\"date\").apply(fill_data).groupby(level=0)"
   ]
  },
  {
   "cell_type": "markdown",
   "metadata": {},
   "source": [
    "### World Map Visualization"
   ]
  },
  {
   "cell_type": "code",
   "execution_count": 103,
   "metadata": {},
   "outputs": [],
   "source": [
    "country_geo = \"world-countries.json\"\n",
    "map_dict = epidemic_df.set_index(\"country\")[\"confirmed\"].to_dict()\n",
    "MAX = max(epidemic_df[\"confirmed\"])\n",
    "color_scale = branca.colormap.LinearColormap(colors=[\"#fffbf9\",\"#fef2cd\",\"#ff6349\",\"#b90702\",\"#a6311f\"],\n",
    "                                             index=[0,0.0001*MAX,0.5*MAX,0.8*MAX,MAX])"
   ]
  },
  {
   "cell_type": "code",
   "execution_count": 104,
   "metadata": {},
   "outputs": [],
   "source": [
    "def get_color(group, feature):\n",
    "    if feature[\"id\"] in group[\"country\"].values:\n",
    "        value = group[group[\"country\"]==feature[\"id\"]][\"confirmed\"].values[0]\n",
    "        return color_scale(value)\n",
    "    return \"#ffffffff\""
   ]
  },
  {
   "cell_type": "code",
   "execution_count": 105,
   "metadata": {
    "scrolled": false
   },
   "outputs": [],
   "source": [
    "for name, group in groups:\n",
    "    world_map=folium.Map(location=[0,0], zoom_start=2)\n",
    "    folium.features.GeoJson(\n",
    "        data=country_geo,\n",
    "        name=name,\n",
    "        style_function = lambda feature: {\n",
    "            \"fillColor\": get_color(group, feature),\n",
    "            \"fillOpacity\": 0.7,\n",
    "            \"color\": \"black\",\n",
    "            \"weight\": 0.5,\n",
    "        },\n",
    "        overlay=False,\n",
    "        show=False,\n",
    "        control=False,\n",
    "        smooth_factor=0.5\n",
    "    ).add_to(world_map)\n",
    "    world_map.save(\"data/html_data/\"+name+\".html\")"
   ]
  },
  {
   "cell_type": "code",
   "execution_count": 110,
   "metadata": {},
   "outputs": [],
   "source": [
    "driver = webdriver.Chrome(executable_path=os.path.abspath(\"chromedriver\"))\n",
    "for d in date:\n",
    "    driver.get(\"file://\"+os.path.abspath(\"data/html_data/\"+d+\".html\"))\n",
    "    driver.save_screenshot(os.path.abspath(\"data/image_data/\"+d+\".png\"))\n",
    "driver.quit()"
   ]
  },
  {
   "cell_type": "code",
   "execution_count": 111,
   "metadata": {},
   "outputs": [],
   "source": [
    "for d in date:\n",
    "    img = cv2.imread(os.path.abspath(\"data/image_data/\"+d+\".png\"))\n",
    "    cv2.putText(img, d, (500, 50), cv2.FONT_HERSHEY_SIMPLEX, 1., (50,50,150), 2)\n",
    "    cv2.imwrite(\"data/processed_image_data/\"+d+\".png\", img[20:-50,87:-87])"
   ]
  },
  {
   "cell_type": "markdown",
   "metadata": {},
   "source": [
    "### Convert images to video"
   ]
  },
  {
   "cell_type": "code",
   "execution_count": 114,
   "metadata": {},
   "outputs": [],
   "source": [
    "img_array = []\n",
    "for d in date:\n",
    "    img = cv2.imread(\"data/processed_image_data/\"+d+\".png\")\n",
    "    height, width, layers = img.shape\n",
    "    size = (width,height)\n",
    "    img_array.append(img)\n",
    "\n",
    "out = cv2.VideoWriter('project.mp4', cv2.VideoWriter_fourcc(*'DIVX'), 3, size)\n",
    " \n",
    "for i in range(len(img_array)):\n",
    "    out.write(img_array[i])\n",
    "out.release()"
   ]
  },
  {
   "cell_type": "code",
   "execution_count": null,
   "metadata": {},
   "outputs": [],
   "source": []
  }
 ],
 "metadata": {
  "kernelspec": {
   "display_name": "Python 3",
   "language": "python",
   "name": "python3"
  },
  "language_info": {
   "codemirror_mode": {
    "name": "ipython",
    "version": 3
   },
   "file_extension": ".py",
   "mimetype": "text/x-python",
   "name": "python",
   "nbconvert_exporter": "python",
   "pygments_lexer": "ipython3",
   "version": "3.7.4"
  }
 },
 "nbformat": 4,
 "nbformat_minor": 4
}
